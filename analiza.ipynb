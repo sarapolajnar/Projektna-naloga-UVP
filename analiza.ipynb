{
 "cells": [
  {
   "cell_type": "markdown",
   "metadata": {},
   "source": [
    "# Analiza podatkov\n",
    "\n",
    "Avtorica: Sara Polajnar\n",
    "\n",
    "Vsi podatki, uporabljeni v nalogi so bili vzeti iz [spletne strani](https://worldathletics.org/records/toplists/sprints/60-metres/all/women/senior/2024?regionType=world&timing=electronic&windReading=regular&page=1&bestResultsOnly=true&maxResultsByCountry=all&eventId=10229684&ageCategory=senior) dne 10.10.2024.\n",
    "\n",
    "Naložimo potrebne podatke in knjižnice."
   ]
  },
  {
   "cell_type": "code",
   "execution_count": 65,
   "metadata": {},
   "outputs": [],
   "source": [
    "import pandas as pd\n",
    "import matplotlib.pyplot as plt\n",
    "\n",
    "tabela_podatkov = pd.read_csv('pridobivanje_podatkov/podatki.csv')"
   ]
  },
  {
   "cell_type": "markdown",
   "metadata": {},
   "source": [
    "## Vsi podatki\n",
    "Za začetek si poglejmo vse zajete podatke:"
   ]
  },
  {
   "cell_type": "code",
   "execution_count": 46,
   "metadata": {},
   "outputs": [
    {
     "data": {
      "text/html": [
       "<div>\n",
       "<style scoped>\n",
       "    .dataframe tbody tr th:only-of-type {\n",
       "        vertical-align: middle;\n",
       "    }\n",
       "\n",
       "    .dataframe tbody tr th {\n",
       "        vertical-align: top;\n",
       "    }\n",
       "\n",
       "    .dataframe thead th {\n",
       "        text-align: right;\n",
       "    }\n",
       "</style>\n",
       "<table border=\"1\" class=\"dataframe\">\n",
       "  <thead>\n",
       "    <tr style=\"text-align: right;\">\n",
       "      <th></th>\n",
       "      <th>uvrstitev</th>\n",
       "      <th>rezultat [s]</th>\n",
       "      <th>ime tekmovalke</th>\n",
       "      <th>datum rojstva</th>\n",
       "      <th>država</th>\n",
       "      <th>pozicija</th>\n",
       "      <th>datum dogodka</th>\n",
       "      <th>skupne točke</th>\n",
       "      <th>kontinent</th>\n",
       "    </tr>\n",
       "  </thead>\n",
       "  <tbody>\n",
       "    <tr>\n",
       "      <th>0</th>\n",
       "      <td>1</td>\n",
       "      <td>6.98</td>\n",
       "      <td>Julien ALFRED</td>\n",
       "      <td>10 JUN 2001</td>\n",
       "      <td>LCA</td>\n",
       "      <td>1</td>\n",
       "      <td>02 MAR 2024</td>\n",
       "      <td>1227</td>\n",
       "      <td>Severna in Srednja Amerika</td>\n",
       "    </tr>\n",
       "    <tr>\n",
       "      <th>1</th>\n",
       "      <td>1</td>\n",
       "      <td>6.98</td>\n",
       "      <td>Ewa SWOBODA</td>\n",
       "      <td>26 JUL 1997</td>\n",
       "      <td>POL</td>\n",
       "      <td>1sf1</td>\n",
       "      <td>02 MAR 2024</td>\n",
       "      <td>1227</td>\n",
       "      <td>Evropa</td>\n",
       "    </tr>\n",
       "    <tr>\n",
       "      <th>2</th>\n",
       "      <td>3</td>\n",
       "      <td>7.02</td>\n",
       "      <td>Zaynab DOSSO</td>\n",
       "      <td>12 SEP 1999</td>\n",
       "      <td>ITA</td>\n",
       "      <td>2</td>\n",
       "      <td>06 FEB 2024</td>\n",
       "      <td>1213</td>\n",
       "      <td>Evropa</td>\n",
       "    </tr>\n",
       "    <tr>\n",
       "      <th>3</th>\n",
       "      <td>3</td>\n",
       "      <td>7.02</td>\n",
       "      <td>Aleia HOBBS</td>\n",
       "      <td>24 FEB 1996</td>\n",
       "      <td>USA</td>\n",
       "      <td>1</td>\n",
       "      <td>17 FEB 2024</td>\n",
       "      <td>1213</td>\n",
       "      <td>Severna in Srednja Amerika</td>\n",
       "    </tr>\n",
       "    <tr>\n",
       "      <th>4</th>\n",
       "      <td>5</td>\n",
       "      <td>7.03</td>\n",
       "      <td>Shashalee FORBES</td>\n",
       "      <td>10 MAY 1996</td>\n",
       "      <td>JAM</td>\n",
       "      <td>1f2</td>\n",
       "      <td>27 JAN 2024</td>\n",
       "      <td>1209</td>\n",
       "      <td>Severna in Srednja Amerika</td>\n",
       "    </tr>\n",
       "    <tr>\n",
       "      <th>...</th>\n",
       "      <td>...</td>\n",
       "      <td>...</td>\n",
       "      <td>...</td>\n",
       "      <td>...</td>\n",
       "      <td>...</td>\n",
       "      <td>...</td>\n",
       "      <td>...</td>\n",
       "      <td>...</td>\n",
       "      <td>...</td>\n",
       "    </tr>\n",
       "    <tr>\n",
       "      <th>9188</th>\n",
       "      <td>9059</td>\n",
       "      <td>8.30</td>\n",
       "      <td>Mimi ZAJEC</td>\n",
       "      <td>2012</td>\n",
       "      <td>SLO</td>\n",
       "      <td>3</td>\n",
       "      <td>11 MAY 2024</td>\n",
       "      <td>816</td>\n",
       "      <td>Evropa</td>\n",
       "    </tr>\n",
       "    <tr>\n",
       "      <th>9189</th>\n",
       "      <td>9059</td>\n",
       "      <td>8.30</td>\n",
       "      <td>Thea MOODY</td>\n",
       "      <td>2010</td>\n",
       "      <td>CZE</td>\n",
       "      <td>3h1</td>\n",
       "      <td>01 JUN 2024</td>\n",
       "      <td>809</td>\n",
       "      <td>Evropa</td>\n",
       "    </tr>\n",
       "    <tr>\n",
       "      <th>9190</th>\n",
       "      <td>9059</td>\n",
       "      <td>8.30</td>\n",
       "      <td>Simona LELOVSKÁ</td>\n",
       "      <td>2007</td>\n",
       "      <td>SVK</td>\n",
       "      <td>5f1</td>\n",
       "      <td>09 JUN 2024</td>\n",
       "      <td>809</td>\n",
       "      <td>Evropa</td>\n",
       "    </tr>\n",
       "    <tr>\n",
       "      <th>9191</th>\n",
       "      <td>9059</td>\n",
       "      <td>8.30</td>\n",
       "      <td>Ema VORÁČKOVÁ</td>\n",
       "      <td>2008</td>\n",
       "      <td>CZE</td>\n",
       "      <td>4f2</td>\n",
       "      <td>10 AUG 2024</td>\n",
       "      <td>809</td>\n",
       "      <td>Evropa</td>\n",
       "    </tr>\n",
       "    <tr>\n",
       "      <th>9192</th>\n",
       "      <td>9059</td>\n",
       "      <td>8.30</td>\n",
       "      <td>Ester HUDÁKOVÁ</td>\n",
       "      <td>2009</td>\n",
       "      <td>CZE</td>\n",
       "      <td>8f1</td>\n",
       "      <td>21 AUG 2024</td>\n",
       "      <td>809</td>\n",
       "      <td>Evropa</td>\n",
       "    </tr>\n",
       "  </tbody>\n",
       "</table>\n",
       "<p>9193 rows × 9 columns</p>\n",
       "</div>"
      ],
      "text/plain": [
       "      uvrstitev  rezultat [s]    ime tekmovalke datum rojstva država pozicija  \\\n",
       "0             1          6.98     Julien ALFRED   10 JUN 2001    LCA        1   \n",
       "1             1          6.98       Ewa SWOBODA   26 JUL 1997    POL     1sf1   \n",
       "2             3          7.02      Zaynab DOSSO   12 SEP 1999    ITA        2   \n",
       "3             3          7.02       Aleia HOBBS   24 FEB 1996    USA        1   \n",
       "4             5          7.03  Shashalee FORBES   10 MAY 1996    JAM      1f2   \n",
       "...         ...           ...               ...           ...    ...      ...   \n",
       "9188       9059          8.30        Mimi ZAJEC          2012    SLO        3   \n",
       "9189       9059          8.30        Thea MOODY          2010    CZE      3h1   \n",
       "9190       9059          8.30   Simona LELOVSKÁ          2007    SVK      5f1   \n",
       "9191       9059          8.30     Ema VORÁČKOVÁ          2008    CZE      4f2   \n",
       "9192       9059          8.30    Ester HUDÁKOVÁ          2009    CZE      8f1   \n",
       "\n",
       "     datum dogodka  skupne točke                   kontinent  \n",
       "0      02 MAR 2024          1227  Severna in Srednja Amerika  \n",
       "1      02 MAR 2024          1227                      Evropa  \n",
       "2      06 FEB 2024          1213                      Evropa  \n",
       "3      17 FEB 2024          1213  Severna in Srednja Amerika  \n",
       "4      27 JAN 2024          1209  Severna in Srednja Amerika  \n",
       "...            ...           ...                         ...  \n",
       "9188   11 MAY 2024           816                      Evropa  \n",
       "9189   01 JUN 2024           809                      Evropa  \n",
       "9190   09 JUN 2024           809                      Evropa  \n",
       "9191   10 AUG 2024           809                      Evropa  \n",
       "9192   21 AUG 2024           809                      Evropa  \n",
       "\n",
       "[9193 rows x 9 columns]"
      ]
     },
     "execution_count": 46,
     "metadata": {},
     "output_type": "execute_result"
    }
   ],
   "source": [
    "tabela_podatkov"
   ]
  },
  {
   "cell_type": "markdown",
   "metadata": {},
   "source": [
    "## Kateri rezultat je doseglo največ tekmovalk?"
   ]
  },
  {
   "cell_type": "code",
   "execution_count": 73,
   "metadata": {},
   "outputs": [],
   "source": [
    "def st_tekmovalk_na_rezultat(tabela):\n",
    "    tabela['rezultat [s]'] = tabela['rezultat [s]'].astype(float)\n",
    "    pogostost_rezultatov = tabela['rezultat [s]'].value_counts()\n",
    "    pet_najpogostejsih = pogostost_rezultatov.head(5)\n",
    "    najnizji_rezultat = tabela['rezultat [s]'].min()\n",
    "    najvisji_rezultat = tabela['rezultat [s]'].max() \n",
    "\n",
    "    return pet_najpogostejsih, f'Najboljši rezultat: {najnizji_rezultat}', f'Najslabši rezultat: {najvisji_rezultat}'\n",
    "\n",
    "print(st_tekmovalk_na_rezultat(tabela_podatkov))\n"
   ]
  },
  {
   "cell_type": "markdown",
   "metadata": {},
   "source": [
    "Vidimo, da je največ tekmovalk doseglo rezultat 843, kar se opazno razlikuje od njebojšega, ki znaša 1227\n",
    "\n",
    "Vsi rezultati razporejeni glede na to koliko tekmovalk jih je doseglo: "
   ]
  },
  {
   "cell_type": "code",
   "execution_count": 42,
   "metadata": {},
   "outputs": [
    {
     "data": {
      "text/plain": [
       "Text(0, 0.5, 'Število tekmovalk')"
      ]
     },
     "execution_count": 42,
     "metadata": {},
     "output_type": "execute_result"
    },
    {
     "data": {
      "image/png": "[encoded data removed]",
      "text/plain": [
       "<Figure size 640x480 with 1 Axes>"
      ]
     },
     "metadata": {},
     "output_type": "display_data"
    }
   ],
   "source": [
    "zaokrozeni_rezultati = tabela_podatkov['rezultat [s]'].round(1)\n",
    "zaokrozeni_rezultati.plot.bar()\n",
    "plt.title('Pogostost rezultatov tekmovalk')\n",
    "plt.xlabel('Rezultat [s]')\n",
    "plt.ylabel('Število tekmovalk')\n"
   ]
  },
  {
   "cell_type": "code",
   "execution_count": null,
   "metadata": {},
   "outputs": [],
   "source": []
  },
  {
   "cell_type": "markdown",
   "metadata": {},
   "source": [
    "## Iz katerega kontinenta prihajajo najboljše tekmovalke?"
   ]
  }
 ],
 "metadata": {
  "kernelspec": {
   "display_name": "Python 3",
   "language": "python",
   "name": "python3"
  },
  "language_info": {
   "codemirror_mode": {
    "name": "ipython",
    "version": 3
   },
   "file_extension": ".py",
   "mimetype": "text/x-python",
   "name": "python",
   "nbconvert_exporter": "python",
   "pygments_lexer": "ipython3",
   "version": "3.12.7"
  }
 },
 "nbformat": 4,
 "nbformat_minor": 2
}
